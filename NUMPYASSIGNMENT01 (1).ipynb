{
 "cells": [
  {
   "cell_type": "code",
   "execution_count": 5,
   "id": "6c1ae3da-d943-46d9-8f57-b29690a35ec1",
   "metadata": {},
   "outputs": [],
   "source": [
    "import numpy as np"
   ]
  },
  {
   "cell_type": "code",
   "execution_count": null,
   "id": "a8d13969-acac-4e1a-a864-1dd14875e6db",
   "metadata": {},
   "outputs": [],
   "source": [
    " 1. What is a Python library? Why do we use Python libraries?"
   ]
  },
  {
   "cell_type": "code",
   "execution_count": null,
   "id": "67c24d0c-96ec-4297-ba27-5d6580096b7b",
   "metadata": {},
   "outputs": [],
   "source": [
    "A Python library is a collection of related modules. It contains bundles of code that can be used repeatedly in different programs. It makes Python Programming simpler and convenient for the programmer. As we don’t need to write the same code again and again for different programs.\n",
    "It is a widely used, object-oriented, open-source, high-performance programming language with many advantages – one of which is the extensive availability of libraries in Python. Libraries written in Python play a critical role in machine learning and data science. Each module in a Python library serves a specific purpose."
   ]
  },
  {
   "cell_type": "code",
   "execution_count": null,
   "id": "f8ef550d-56b2-43cb-a6ce-a0c0d8b760b5",
   "metadata": {},
   "outputs": [],
   "source": [
    " 2. What is the difference between Numpy array and List?"
   ]
  },
  {
   "cell_type": "code",
   "execution_count": null,
   "id": "067fd956-c73d-457d-a382-7f6f59a9fb46",
   "metadata": {},
   "outputs": [],
   "source": [
    "Difference between Numpy array and Python List are given below\n",
    "\n",
    "                Numpy Array                                    |                      Python List\n",
    "1.It doesnot  store additional information about each element. | 1.Lists in Python store additional information about each element.\n",
    "                                                               |\n",
    "2.It cannot hold different data types.                         | 2.Lists can hold different data types.\n",
    "                                                               | \n",
    "3.Itt store elements in contiguous memory locations.           | 3.Lists may not store elements in contiguous memory locations.\n",
    "                                                               | \n",
    "4.Numpy array is more optimized for numerical computationss.   | 4.Lists are not optimized for numerical computations and may have slower mathematical operations due to Python’s interpretation overhead. \n",
    "                                                               |\n",
    "5.Numpy array has extra metadata as shape,strides,and data type| 5. It doesnot have extra metadata. \n",
    "                                                               |\n",
    "    \n",
    "                                                                \n",
    "                                                            \n",
    "                            \n",
    "                            \n",
    "                            \n",
    "                            \n",
    "                            \n",
    "                            \n",
    "                            \n",
    "                            \n",
    "                            \n",
    "                            \n",
    "                            \n",
    "                                                                "
   ]
  },
  {
   "cell_type": "code",
   "execution_count": null,
   "id": "d635c172-81de-4ad0-8f9d-070d86e436b3",
   "metadata": {},
   "outputs": [],
   "source": [
    "3. Find the shape, size and dimension of the following array?\n",
    " [[1, 2, 3, 4]\n",
    " [5, 6, 7, 8],\n",
    " [9, 10, 11, 12]]"
   ]
  },
  {
   "cell_type": "code",
   "execution_count": 102,
   "id": "be47c415-6ab6-4fcb-a586-b5b37e92efcc",
   "metadata": {},
   "outputs": [],
   "source": [
    "arr1= np.array([[1, 2, 3, 4],[5, 6, 7, 8],[9, 10, 11, 12]])"
   ]
  },
  {
   "cell_type": "code",
   "execution_count": 103,
   "id": "3d6a145b-6581-4d2e-b0f8-892f61ecc384",
   "metadata": {},
   "outputs": [
    {
     "data": {
      "text/plain": [
       "12"
      ]
     },
     "execution_count": 103,
     "metadata": {},
     "output_type": "execute_result"
    }
   ],
   "source": [
    "np.size(arr1)"
   ]
  },
  {
   "cell_type": "code",
   "execution_count": 104,
   "id": "0c281a4a-461b-431a-93fb-7319f2fd4cc9",
   "metadata": {},
   "outputs": [
    {
     "data": {
      "text/plain": [
       "2"
      ]
     },
     "execution_count": 104,
     "metadata": {},
     "output_type": "execute_result"
    }
   ],
   "source": [
    "np.ndim(arr1)"
   ]
  },
  {
   "cell_type": "code",
   "execution_count": 105,
   "id": "0139107f-967d-42c3-b9e3-dfe08ef27d98",
   "metadata": {},
   "outputs": [
    {
     "data": {
      "text/plain": [
       "(3, 4)"
      ]
     },
     "execution_count": 105,
     "metadata": {},
     "output_type": "execute_result"
    }
   ],
   "source": [
    "np.shape(arr1)"
   ]
  },
  {
   "cell_type": "code",
   "execution_count": null,
   "id": "da44a5c0-e267-4790-baed-5df8f78b0072",
   "metadata": {},
   "outputs": [],
   "source": [
    "4. Write python code to access the first row of the following array?\n",
    "[[1, 2, 3, 4]\n",
    " [5, 6, 7, 8],\n",
    " [9, 10, 11, 12]]"
   ]
  },
  {
   "cell_type": "code",
   "execution_count": 106,
   "id": "45385e56-6c0b-4b74-b3d2-1cd8106b5884",
   "metadata": {},
   "outputs": [],
   "source": [
    "arr2 =np.array([[1, 2, 3, 4],[5, 6, 7, 8],[9, 10, 11, 12]])"
   ]
  },
  {
   "cell_type": "code",
   "execution_count": 107,
   "id": "61196d0d-9f6e-47b0-9460-baae33901938",
   "metadata": {},
   "outputs": [
    {
     "data": {
      "text/plain": [
       "array([[ 1,  2,  3,  4],\n",
       "       [ 5,  6,  7,  8],\n",
       "       [ 9, 10, 11, 12]])"
      ]
     },
     "execution_count": 107,
     "metadata": {},
     "output_type": "execute_result"
    }
   ],
   "source": [
    "arr2"
   ]
  },
  {
   "cell_type": "markdown",
   "id": "35eaf080-acbe-4892-be34-5c46192ea08c",
   "metadata": {},
   "source": [
    "Ans:-"
   ]
  },
  {
   "cell_type": "code",
   "execution_count": 16,
   "id": "1b14f17d-8a19-4656-93f2-e535d7eca0f8",
   "metadata": {},
   "outputs": [
    {
     "data": {
      "text/plain": [
       "array([1, 2, 3, 4])"
      ]
     },
     "execution_count": 16,
     "metadata": {},
     "output_type": "execute_result"
    }
   ],
   "source": [
    "arr2[ 0,0:4]"
   ]
  },
  {
   "cell_type": "code",
   "execution_count": null,
   "id": "f352448b-5627-410c-a68e-87b12b621d62",
   "metadata": {},
   "outputs": [],
   "source": [
    " 5. How do you access the element at the third row and fourth column from the given numpy array?\n",
    " [ [1, 2, 3, 4]\n",
    " [5, 6, 7, 8],\n",
    " [9, 10, 11, 12]]"
   ]
  },
  {
   "cell_type": "code",
   "execution_count": null,
   "id": "88ea47b3-06de-4fc0-8f42-e47e358c98d6",
   "metadata": {},
   "outputs": [],
   "source": [
    "Answer:-"
   ]
  },
  {
   "cell_type": "code",
   "execution_count": 20,
   "id": "44517c46-8d10-4fcd-8755-a8e124774472",
   "metadata": {},
   "outputs": [
    {
     "data": {
      "text/plain": [
       "12"
      ]
     },
     "execution_count": 20,
     "metadata": {},
     "output_type": "execute_result"
    }
   ],
   "source": [
    "arr2[2][3]"
   ]
  },
  {
   "cell_type": "code",
   "execution_count": null,
   "id": "3977e3b9-c4ca-43fb-be26-baa432deb512",
   "metadata": {},
   "outputs": [],
   "source": [
    "6. Write code to extract all odd-indexed elements from the given numpy array?"
   ]
  },
  {
   "cell_type": "code",
   "execution_count": null,
   "id": "e301754c-6982-40d7-9009-3fbbcbab2401",
   "metadata": {},
   "outputs": [],
   "source": [
    "Ans:-"
   ]
  },
  {
   "cell_type": "code",
   "execution_count": 30,
   "id": "0a31c26e-9e44-4c8d-8d30-8dfd25918ccf",
   "metadata": {},
   "outputs": [
    {
     "data": {
      "text/plain": [
       "array([ 1,  3,  5,  7,  9, 11])"
      ]
     },
     "execution_count": 30,
     "metadata": {},
     "output_type": "execute_result"
    }
   ],
   "source": [
    "np.extract(arr2%2 !=0,arr2)"
   ]
  },
  {
   "cell_type": "markdown",
   "id": "59c577eb-1e62-4724-87bc-18bb3930f9e2",
   "metadata": {},
   "source": [
    "               Or "
   ]
  },
  {
   "cell_type": "code",
   "execution_count": 29,
   "id": "fd6b3bdc-53a1-487f-bd9d-116c4845b490",
   "metadata": {},
   "outputs": [
    {
     "name": "stdout",
     "output_type": "stream",
     "text": [
      "Odd-indexed elements: [ 1  3  5  7  9 11]\n"
     ]
    }
   ],
   "source": [
    "odd_elements = arr2[arr2 % 2 == 1]\n",
    "\n",
    "print(f\"Odd-indexed elements: {odd_elements}\")"
   ]
  },
  {
   "cell_type": "code",
   "execution_count": null,
   "id": "39759d8d-2d8a-4f9b-a0a9-71f1e9fa4219",
   "metadata": {},
   "outputs": [],
   "source": [
    " 7. How can you generate a random 3x3 matrix with values between 0 and 1?"
   ]
  },
  {
   "cell_type": "code",
   "execution_count": null,
   "id": "6a8edbed-6c2d-4769-9907-0a147b2cfab3",
   "metadata": {},
   "outputs": [],
   "source": [
    "Ans :-"
   ]
  },
  {
   "cell_type": "code",
   "execution_count": 49,
   "id": "23c97171-d9e8-491a-a347-3167b08d391a",
   "metadata": {},
   "outputs": [],
   "source": [
    "Random_matrix = np.random.random((3,3))"
   ]
  },
  {
   "cell_type": "code",
   "execution_count": 50,
   "id": "f940cbf7-6437-475c-871d-567d917da4b2",
   "metadata": {},
   "outputs": [
    {
     "data": {
      "text/plain": [
       "array([[0.87560018, 0.89342016, 0.30520091],\n",
       "       [0.73711871, 0.44649629, 0.20155574],\n",
       "       [0.2406117 , 0.06084186, 0.16639821]])"
      ]
     },
     "execution_count": 50,
     "metadata": {},
     "output_type": "execute_result"
    }
   ],
   "source": [
    "Random_matrix"
   ]
  },
  {
   "cell_type": "code",
   "execution_count": null,
   "id": "2d793864-9e69-4e5b-ba69-47b931e06c80",
   "metadata": {},
   "outputs": [],
   "source": [
    "8. Describe the difference between np.random.rand and np.random.randn?"
   ]
  },
  {
   "cell_type": "code",
   "execution_count": null,
   "id": "048e71fe-e12c-4c62-b1c1-7b873709f6a6",
   "metadata": {},
   "outputs": [],
   "source": [
    "np.random.rand creates an array of the given shape and populate it with random samples from a uniform distribution over [0, 1). \n",
    " \n",
    "Exp:-                   \n",
    "                                                                                                                         "
   ]
  },
  {
   "cell_type": "code",
   "execution_count": 55,
   "id": "96bd8837-af02-41ca-a3cc-8d6dcd0d451e",
   "metadata": {},
   "outputs": [
    {
     "data": {
      "text/plain": [
       "array([[0.51441006, 0.65381058],\n",
       "       [0.48713444, 0.68732894]])"
      ]
     },
     "execution_count": 55,
     "metadata": {},
     "output_type": "execute_result"
    }
   ],
   "source": [
    "np.random.rand(2,2)"
   ]
  },
  {
   "cell_type": "code",
   "execution_count": null,
   "id": "6131c7d5-ba6e-4d1f-bf11-40b2b1939fdc",
   "metadata": {},
   "outputs": [],
   "source": [
    "while np.random.randn creates an array of the given shape and populate it with random samples from a normal distribution with a specific mean and standard deviation.\n",
    "\n",
    "Exp:-"
   ]
  },
  {
   "cell_type": "code",
   "execution_count": 60,
   "id": "cc11c1ce-e3d1-48c2-a13a-18c65ba790d2",
   "metadata": {},
   "outputs": [
    {
     "data": {
      "text/plain": [
       "array([[-1.76942914, -0.66798011],\n",
       "       [-0.37386673,  1.21665565]])"
      ]
     },
     "execution_count": 60,
     "metadata": {},
     "output_type": "execute_result"
    }
   ],
   "source": [
    "np.random.randn(2,2)"
   ]
  },
  {
   "cell_type": "code",
   "execution_count": null,
   "id": "38d5267f-7ef3-4d7e-adc7-4a3fb45e51fb",
   "metadata": {},
   "outputs": [],
   "source": [
    "9. Write code to increase the dimension of the following array?\n",
    " [[1, 2, 3, 4]\n",
    " [5, 6, 7, 8],\n",
    " [9, 10, 11, 12]]"
   ]
  },
  {
   "cell_type": "code",
   "execution_count": null,
   "id": "67971d9d-8103-4438-a5c8-118f041dfe19",
   "metadata": {},
   "outputs": [],
   "source": [
    "Ans :-"
   ]
  },
  {
   "cell_type": "code",
   "execution_count": 61,
   "id": "9935118e-2ff6-4f19-b459-9ff303bcc942",
   "metadata": {},
   "outputs": [],
   "source": [
    "arr3=np.expand_dims(arr1, axis = 1)"
   ]
  },
  {
   "cell_type": "code",
   "execution_count": 62,
   "id": "b4774a82-1e7a-4ee0-a25f-072cd9f90b9d",
   "metadata": {},
   "outputs": [
    {
     "data": {
      "text/plain": [
       "array([[[ 1,  2,  3,  4]],\n",
       "\n",
       "       [[ 5,  6,  7,  8]],\n",
       "\n",
       "       [[ 9, 10, 11, 12]]])"
      ]
     },
     "execution_count": 62,
     "metadata": {},
     "output_type": "execute_result"
    }
   ],
   "source": [
    "arr3"
   ]
  },
  {
   "cell_type": "code",
   "execution_count": 63,
   "id": "0ad6a118-4ef0-4916-bb10-4189a37bf22b",
   "metadata": {},
   "outputs": [],
   "source": [
    "arr4=np.expand_dims(arr1, axis = 0)"
   ]
  },
  {
   "cell_type": "code",
   "execution_count": 64,
   "id": "731732e2-7d35-40ed-8d3b-55e93ea58956",
   "metadata": {},
   "outputs": [
    {
     "data": {
      "text/plain": [
       "array([[[ 1,  2,  3,  4],\n",
       "        [ 5,  6,  7,  8],\n",
       "        [ 9, 10, 11, 12]]])"
      ]
     },
     "execution_count": 64,
     "metadata": {},
     "output_type": "execute_result"
    }
   ],
   "source": [
    "arr4"
   ]
  },
  {
   "cell_type": "code",
   "execution_count": null,
   "id": "d9429c7c-01de-47df-a043-459f8be9b0c0",
   "metadata": {},
   "outputs": [],
   "source": [
    "10. How to transpose the following array in NumPy?\n",
    " [[1, 2, 3, 4]\n",
    " [5, 6, 7, 8],\n",
    " [9, 10, 11, 12]]"
   ]
  },
  {
   "cell_type": "code",
   "execution_count": null,
   "id": "62d12ece-d3da-4214-825b-8cfe6e189f9b",
   "metadata": {},
   "outputs": [],
   "source": [
    "Ans :-"
   ]
  },
  {
   "cell_type": "code",
   "execution_count": 67,
   "id": "3558f456-57bb-4107-8f3c-002eb0fe35e7",
   "metadata": {},
   "outputs": [],
   "source": [
    "arr5=np.array([[1, 2, 3, 4],[5, 6, 7, 8],[9, 10, 11, 12]])"
   ]
  },
  {
   "cell_type": "code",
   "execution_count": 68,
   "id": "1bd15a08-5014-4960-96c7-cf62c9d0468b",
   "metadata": {},
   "outputs": [
    {
     "data": {
      "text/plain": [
       "array([[ 1,  5,  9],\n",
       "       [ 2,  6, 10],\n",
       "       [ 3,  7, 11],\n",
       "       [ 4,  8, 12]])"
      ]
     },
     "execution_count": 68,
     "metadata": {},
     "output_type": "execute_result"
    }
   ],
   "source": [
    "arr5.T"
   ]
  },
  {
   "cell_type": "code",
   "execution_count": null,
   "id": "b7d5afaa-9d8f-4fe9-a35d-352c45b3c587",
   "metadata": {},
   "outputs": [],
   "source": [
    "11. Consider the following matrix:\n",
    "Matrix A: [[1, 2, 3, 4] [5, 6, 7, 8],[9, 10, 11, 12]]\n",
    "Matrix B: [[1, 2, 3, 4] [5, 6, 7, 8],[9, 10, 11, 12]]\n",
    " \n",
    " Perform the following operation using Python:\n",
    "1.Index wise multiplicatio\n",
    "2.Matrix multiplication\n",
    "3.Add both the matrices\n",
    "4.Subtract matrix B from A\n",
    "5.Divide Matrix B by A"
   ]
  },
  {
   "cell_type": "code",
   "execution_count": 71,
   "id": "fca3d821-769e-4547-af41-1c6a8b9bd144",
   "metadata": {},
   "outputs": [],
   "source": [
    "Arr6 = np.array([[1, 2, 3, 4],[5, 6, 7, 8],[9, 10, 11, 12]])\n",
    "Arr7 = np.array([[1, 2, 3, 4],[5, 6, 7, 8],[9, 10, 11, 12]])"
   ]
  },
  {
   "cell_type": "code",
   "execution_count": 72,
   "id": "cedb65b2-837b-4c92-8b29-6438e6ee8980",
   "metadata": {},
   "outputs": [
    {
     "data": {
      "text/plain": [
       "array([[ 1,  2,  3,  4],\n",
       "       [ 5,  6,  7,  8],\n",
       "       [ 9, 10, 11, 12]])"
      ]
     },
     "execution_count": 72,
     "metadata": {},
     "output_type": "execute_result"
    }
   ],
   "source": [
    "Arr6"
   ]
  },
  {
   "cell_type": "code",
   "execution_count": 73,
   "id": "3b7681bf-1fe6-4ea9-9a86-2f67ad5c1e48",
   "metadata": {},
   "outputs": [
    {
     "data": {
      "text/plain": [
       "array([[ 1,  2,  3,  4],\n",
       "       [ 5,  6,  7,  8],\n",
       "       [ 9, 10, 11, 12]])"
      ]
     },
     "execution_count": 73,
     "metadata": {},
     "output_type": "execute_result"
    }
   ],
   "source": [
    "Arr7"
   ]
  },
  {
   "cell_type": "code",
   "execution_count": 74,
   "id": "858587d3-a587-4d1e-ab95-913a4481c418",
   "metadata": {},
   "outputs": [
    {
     "data": {
      "text/plain": [
       "array([[  1,   4,   9,  16],\n",
       "       [ 25,  36,  49,  64],\n",
       "       [ 81, 100, 121, 144]])"
      ]
     },
     "execution_count": 74,
     "metadata": {},
     "output_type": "execute_result"
    }
   ],
   "source": [
    "Arr6*Arr7"
   ]
  },
  {
   "cell_type": "code",
   "execution_count": 75,
   "id": "95cfe872-2ab1-4138-b4c6-5b060c56e1dd",
   "metadata": {},
   "outputs": [
    {
     "ename": "ValueError",
     "evalue": "matmul: Input operand 1 has a mismatch in its core dimension 0, with gufunc signature (n?,k),(k,m?)->(n?,m?) (size 3 is different from 4)",
     "output_type": "error",
     "traceback": [
      "\u001b[0;31m---------------------------------------------------------------------------\u001b[0m",
      "\u001b[0;31mValueError\u001b[0m                                Traceback (most recent call last)",
      "Cell \u001b[0;32mIn[75], line 1\u001b[0m\n\u001b[0;32m----> 1\u001b[0m \u001b[43mArr6\u001b[49m\u001b[38;5;129;43m@Arr7\u001b[39;49m\n",
      "\u001b[0;31mValueError\u001b[0m: matmul: Input operand 1 has a mismatch in its core dimension 0, with gufunc signature (n?,k),(k,m?)->(n?,m?) (size 3 is different from 4)"
     ]
    }
   ],
   "source": [
    "Arr6@Arr7"
   ]
  },
  {
   "cell_type": "raw",
   "id": "409b1854-f5dd-4877-8725-1e90410a4e0d",
   "metadata": {},
   "source": [
    "Matrix multiplication is not possible as in 3*4 and 3*4 3 not equal to 4 but we can  do given below "
   ]
  },
  {
   "cell_type": "code",
   "execution_count": 76,
   "id": "90146bfe-2b1b-44dd-8cf2-9803d0032869",
   "metadata": {},
   "outputs": [
    {
     "data": {
      "text/plain": [
       "array([[ 30,  70, 110],\n",
       "       [ 70, 174, 278],\n",
       "       [110, 278, 446]])"
      ]
     },
     "execution_count": 76,
     "metadata": {},
     "output_type": "execute_result"
    }
   ],
   "source": [
    "Arr6@Arr7.T"
   ]
  },
  {
   "cell_type": "code",
   "execution_count": 77,
   "id": "2705bde9-2fab-431d-84c4-7b411e460fa3",
   "metadata": {},
   "outputs": [
    {
     "data": {
      "text/plain": [
       "array([[ 2,  4,  6,  8],\n",
       "       [10, 12, 14, 16],\n",
       "       [18, 20, 22, 24]])"
      ]
     },
     "execution_count": 77,
     "metadata": {},
     "output_type": "execute_result"
    }
   ],
   "source": [
    "Arr6+Arr7"
   ]
  },
  {
   "cell_type": "code",
   "execution_count": 78,
   "id": "e24b13e6-6eec-414e-ab41-8291901e247c",
   "metadata": {},
   "outputs": [
    {
     "data": {
      "text/plain": [
       "array([[0, 0, 0, 0],\n",
       "       [0, 0, 0, 0],\n",
       "       [0, 0, 0, 0]])"
      ]
     },
     "execution_count": 78,
     "metadata": {},
     "output_type": "execute_result"
    }
   ],
   "source": [
    "Arr6-Arr7"
   ]
  },
  {
   "cell_type": "code",
   "execution_count": 79,
   "id": "a2aafa1e-f9ff-427b-b639-7b281e3017dd",
   "metadata": {},
   "outputs": [
    {
     "data": {
      "text/plain": [
       "array([[1., 1., 1., 1.],\n",
       "       [1., 1., 1., 1.],\n",
       "       [1., 1., 1., 1.]])"
      ]
     },
     "execution_count": 79,
     "metadata": {},
     "output_type": "execute_result"
    }
   ],
   "source": [
    "Arr6/Arr7"
   ]
  },
  {
   "cell_type": "code",
   "execution_count": null,
   "id": "0def4896-2f3a-444b-a761-dbbaa6f0ef05",
   "metadata": {},
   "outputs": [],
   "source": [
    "12.  Which function in Numpy can be used to swap the byte order of an array?\n",
    " "
   ]
  },
  {
   "cell_type": "code",
   "execution_count": null,
   "id": "192dac00-90af-4c58-9517-77e1a3c547a1",
   "metadata": {},
   "outputs": [],
   "source": [
    "Ans :-"
   ]
  },
  {
   "cell_type": "code",
   "execution_count": null,
   "id": "8da117a3-dbbb-430a-a382-034e1cffa5cf",
   "metadata": {},
   "outputs": [],
   "source": [
    "ndarray.byteswap() function is used in numpty for swapping the byte order."
   ]
  },
  {
   "cell_type": "code",
   "execution_count": 89,
   "id": "687f0ed1-3e2c-48fc-956c-da53ba6a41a9",
   "metadata": {},
   "outputs": [],
   "source": [
    "Arr8 = np.array([1,2,3], dtype =  np.int16)"
   ]
  },
  {
   "cell_type": "code",
   "execution_count": 90,
   "id": "cf3f55c5-6af1-4967-bfc6-5d12f7b40377",
   "metadata": {},
   "outputs": [
    {
     "name": "stdout",
     "output_type": "stream",
     "text": [
      "[256 512 768]\n"
     ]
    }
   ],
   "source": [
    "print(Arr8.byteswap(True))"
   ]
  },
  {
   "cell_type": "code",
   "execution_count": null,
   "id": "dd41f00e-1bf7-490a-8fd8-e572b919a8bf",
   "metadata": {},
   "outputs": [],
   "source": [
    "13.  What is the significance of the np.linalg.inv function?\n",
    " "
   ]
  },
  {
   "cell_type": "code",
   "execution_count": null,
   "id": "8604a5eb-45b1-44c4-9366-e1486afadeae",
   "metadata": {},
   "outputs": [],
   "source": [
    "Ans:- It is used to find the inverse of anon-singular matrix using numpy library.\n",
    "\n",
    "Exp:-"
   ]
  },
  {
   "cell_type": "code",
   "execution_count": 91,
   "id": "d4324578-912e-4414-b316-37162414d6d2",
   "metadata": {},
   "outputs": [],
   "source": [
    "Arr9 = np.diag([1,3,4])"
   ]
  },
  {
   "cell_type": "code",
   "execution_count": 92,
   "id": "1c81d3c6-9efb-4162-821a-cc42717d749c",
   "metadata": {},
   "outputs": [
    {
     "data": {
      "text/plain": [
       "array([[1, 0, 0],\n",
       "       [0, 3, 0],\n",
       "       [0, 0, 4]])"
      ]
     },
     "execution_count": 92,
     "metadata": {},
     "output_type": "execute_result"
    }
   ],
   "source": [
    "Arr9"
   ]
  },
  {
   "cell_type": "code",
   "execution_count": 93,
   "id": "ed5c055e-d2ff-40c7-8f5c-81b296186fdc",
   "metadata": {},
   "outputs": [
    {
     "data": {
      "text/plain": [
       "array([[1.        , 0.        , 0.        ],\n",
       "       [0.        , 0.33333333, 0.        ],\n",
       "       [0.        , 0.        , 0.25      ]])"
      ]
     },
     "execution_count": 93,
     "metadata": {},
     "output_type": "execute_result"
    }
   ],
   "source": [
    "np.linalg.inv(Arr9)"
   ]
  },
  {
   "cell_type": "code",
   "execution_count": null,
   "id": "523c98e5-2563-43e9-8f9a-b0091d09041e",
   "metadata": {},
   "outputs": [],
   "source": [
    "14. What does the np.reshape function do, and how is it used?"
   ]
  },
  {
   "cell_type": "code",
   "execution_count": null,
   "id": "4ad46a3d-dd32-45e0-96fa-8e7dbbe41671",
   "metadata": {},
   "outputs": [],
   "source": [
    "Ans :- np.reshape() is used to reshape the dimension of  array but size of array doesnot changes just dimension of array changes.\n",
    "Exp :- "
   ]
  },
  {
   "cell_type": "code",
   "execution_count": 94,
   "id": "e31e8037-e0c3-431c-8985-73df687bcd24",
   "metadata": {},
   "outputs": [],
   "source": [
    "Arr10 = np.array([[1,2],[3,4]])"
   ]
  },
  {
   "cell_type": "code",
   "execution_count": 96,
   "id": "42374a83-dc5e-4079-a40e-605a1a0a6b3f",
   "metadata": {},
   "outputs": [
    {
     "data": {
      "text/plain": [
       "array([[1, 2],\n",
       "       [3, 4]])"
      ]
     },
     "execution_count": 96,
     "metadata": {},
     "output_type": "execute_result"
    }
   ],
   "source": [
    "Arr10"
   ]
  },
  {
   "cell_type": "code",
   "execution_count": 95,
   "id": "cae9e54f-b87b-48e0-b1e7-ffffc3ee3d1d",
   "metadata": {},
   "outputs": [
    {
     "data": {
      "text/plain": [
       "array([[1, 2, 3, 4]])"
      ]
     },
     "execution_count": 95,
     "metadata": {},
     "output_type": "execute_result"
    }
   ],
   "source": [
    "Arr10.reshape(1,4)"
   ]
  },
  {
   "cell_type": "code",
   "execution_count": 97,
   "id": "782bc982-875c-4328-8617-c81ebfb39490",
   "metadata": {},
   "outputs": [
    {
     "data": {
      "text/plain": [
       "array([[1],\n",
       "       [2],\n",
       "       [3],\n",
       "       [4]])"
      ]
     },
     "execution_count": 97,
     "metadata": {},
     "output_type": "execute_result"
    }
   ],
   "source": [
    "Arr10.reshape(4,1)"
   ]
  },
  {
   "cell_type": "code",
   "execution_count": null,
   "id": "45ada566-72f6-4029-b4b8-3de35a15f4c0",
   "metadata": {},
   "outputs": [],
   "source": [
    "15. What is broadcasting in Numpy?"
   ]
  },
  {
   "cell_type": "raw",
   "id": "ee62f709-db60-4441-9e9b-abf52440275a",
   "metadata": {},
   "source": [
    "Ans :-The term broadcasting refers to the ability of NumPy to treat arrays with different dimensions during arithmetic operations. This process involves certain rules that allow the smaller array to be ‘broadcast’ across the larger one, ensuring that they have compatible shapes for these operations.\n",
    "\n",
    "Broadcasting is not limited to two arrays; it can be applied over multiple arrays as well.\n",
    "  In other words broadcasting simply means u are doing some changes  with each and every element of the array.\n",
    "  \n",
    "  Exp :-"
   ]
  },
  {
   "cell_type": "code",
   "execution_count": 99,
   "id": "2850a7f1-f1f0-40d1-ab09-c226d68f6d2d",
   "metadata": {},
   "outputs": [],
   "source": [
    "Arr11 = np.zeros((3,3))"
   ]
  },
  {
   "cell_type": "code",
   "execution_count": 100,
   "id": "ab5d5678-c526-4860-b3cc-87f2f6f510a4",
   "metadata": {},
   "outputs": [
    {
     "data": {
      "text/plain": [
       "array([[0., 0., 0.],\n",
       "       [0., 0., 0.],\n",
       "       [0., 0., 0.]])"
      ]
     },
     "execution_count": 100,
     "metadata": {},
     "output_type": "execute_result"
    }
   ],
   "source": [
    "Arr11"
   ]
  },
  {
   "cell_type": "code",
   "execution_count": 101,
   "id": "4bc51618-0790-4728-beb4-437cd5565365",
   "metadata": {},
   "outputs": [
    {
     "data": {
      "text/plain": [
       "array([[5., 5., 5.],\n",
       "       [5., 5., 5.],\n",
       "       [5., 5., 5.]])"
      ]
     },
     "execution_count": 101,
     "metadata": {},
     "output_type": "execute_result"
    }
   ],
   "source": [
    "Arr11 +5"
   ]
  },
  {
   "cell_type": "raw",
   "id": "d7e2b11f-7d10-41a9-a2f8-25ee40b5a0b8",
   "metadata": {},
   "source": [
    "The above example shows that we are broadcasting every element of array with a fixed increment as 5."
   ]
  },
  {
   "cell_type": "code",
   "execution_count": null,
   "id": "010c490b-4143-4b6d-b625-1928185e2fd1",
   "metadata": {},
   "outputs": [],
   "source": []
  }
 ],
 "metadata": {
  "kernelspec": {
   "display_name": "Python 3 (ipykernel)",
   "language": "python",
   "name": "python3"
  },
  "language_info": {
   "codemirror_mode": {
    "name": "ipython",
    "version": 3
   },
   "file_extension": ".py",
   "mimetype": "text/x-python",
   "name": "python",
   "nbconvert_exporter": "python",
   "pygments_lexer": "ipython3",
   "version": "3.10.8"
  }
 },
 "nbformat": 4,
 "nbformat_minor": 5
}
